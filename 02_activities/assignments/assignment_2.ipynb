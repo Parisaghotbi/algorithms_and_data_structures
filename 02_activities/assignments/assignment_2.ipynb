{
 "cells": [
  {
   "cell_type": "markdown",
   "metadata": {},
   "source": [
    "# Practice Interview\n",
    "\n",
    "## Objective\n",
    "\n",
    "_*The partner assignment aims to provide participants with the opportunity to practice coding in an interview context. You will analyze your partner's Assignment 1. Moreover, code reviews are common practice in a software development team. This assignment should give you a taste of the code review process.*_\n",
    "\n",
    "## Group Size\n",
    "\n",
    "Each group should have 2 people. You will be assigned a partner\n",
    "\n",
    "## Part 1:\n",
    "\n",
    "You and your partner must share each other's Assignment 1 submission."
   ]
  },
  {
   "cell_type": "markdown",
   "metadata": {},
   "source": [
    "\n",
    "## Part 2:\n",
    "\n",
    "Create a Jupyter Notebook, create 6 of the following headings, and complete the following for your partner's assignment 1:\n",
    "\n",
    "-   Paraphrase the problem in your own words.\n"
   ]
  },
  {
   "cell_type": "markdown",
   "metadata": {},
   "source": [
    "The problem involves finding all missing numbers from a given list that represents integers in the range \n",
    "[0,n]. The input list can have duplicates, and we need to return a sorted list of missing numbers. If no numbers are missing or if the list is empty, the function should return -1.\n",
    "\n"
   ]
  },
  {
   "cell_type": "markdown",
   "metadata": {},
   "source": [
    "\n",
    "-   Create 1 new example that demonstrates you understand the problem. Trace/walkthrough 1 example that your partner made and explain it.\n"
   ]
  },
  {
   "cell_type": "markdown",
   "metadata": {},
   "source": [
    "Example:\n",
    "Input: lst = [1, 3, 5, 6]\n",
    "Output: [0, 2, 4]\n",
    "\n",
    "Walkthrough:\n",
    "1. The input list contains nine integers: 6, 8, 2, 3, 5, 7, 0, 1, 10.\n",
    "2. The task is to identify the missing numbers within the range [0, 10].\n",
    "3. Find the maximum number in the list: max_num = 10.\n",
    "4. Create the complete range from 0 to 10\n",
    "5. Remove duplicates from the input list and convert it into a set: Input set = {0, 1, 2, 3, 5, 6, 7, 8, 10}.\n",
    "6. Find the difference between the full range and the input set: Missing numbers = {4, 9}.\n",
    "7. Sort the missing numbers to ensure the output is ordered: [4, 9].\n",
    "\n",
    "The input contains all unique numbers, so deduplication isn’t explicitly needed.\n",
    "The missing numbers [4, 9] are within the expected range, satisfying the problem’s requirements.\n",
    "Output: [4, 9]"
   ]
  },
  {
   "cell_type": "markdown",
   "metadata": {},
   "source": [
    "\n",
    "-   Copy the solution your partner wrote. \n"
   ]
  },
  {
   "cell_type": "code",
   "execution_count": 3,
   "metadata": {},
   "outputs": [],
   "source": [
    "def missing_num(nums):\n",
    "\n",
    "    if not nums:\n",
    "        return -1\n",
    "\n",
    "    maxNum = max(nums)\n",
    "\n",
    "    if (maxNum < 0):\n",
    "        return -1\n",
    "\n",
    "    sortedList = [-1] * (maxNum + 1)\n",
    "\n",
    "    for index, value in enumerate(sortedList):\n",
    "        nums[index] == index\n",
    "\n",
    "    for value in nums:\n",
    "      sortedList[value] = value\n",
    "\n",
    "    output = []\n",
    "\n",
    "    for index, value in enumerate(sortedList):\n",
    "      if (value == -1):\n",
    "          output.append(index)\n",
    "          \n",
    "    if not output:\n",
    "        return -1\n",
    "\n",
    "    return output"
   ]
  },
  {
   "cell_type": "markdown",
   "metadata": {},
   "source": [
    "\n",
    "-   Explain why their solution works in your own words.\n"
   ]
  },
  {
   "cell_type": "markdown",
   "metadata": {},
   "source": [
    "The solution works because:\n",
    "\n",
    "It creates a complete placeholder for the range [0, n] using sortedList.\n",
    "It marks only the numbers present in the input, leaving all missing numbers as -1.\n",
    "It efficiently identifies and collects these missing numbers by iterating over the placeholder.\n"
   ]
  },
  {
   "cell_type": "markdown",
   "metadata": {},
   "source": [
    "\n",
    "-   Explain the problem’s time and space complexity in your own words.\n"
   ]
  },
  {
   "cell_type": "code",
   "execution_count": null,
   "metadata": {},
   "outputs": [],
   "source": [
    "# Your answer here"
   ]
  },
  {
   "cell_type": "markdown",
   "metadata": {},
   "source": [
    "Time Complexity: 𝑂(𝑛+𝑚𝑎𝑥𝑁𝑢𝑚)\n",
    "\n",
    "Space Complexity: 𝑂(𝑚𝑎𝑥𝑁𝑢𝑚)"
   ]
  },
  {
   "cell_type": "markdown",
   "metadata": {},
   "source": [
    "\n",
    "-   Critique your partner's solution, including explanation, and if there is anything that should be adjusted.\n"
   ]
  },
  {
   "cell_type": "code",
   "execution_count": null,
   "metadata": {},
   "outputs": [],
   "source": [
    "# Your answer here"
   ]
  },
  {
   "cell_type": "markdown",
   "metadata": {},
   "source": [
    "Strengths:\n",
    "1. Correctly identifies missing numbers using a logical placeholder approach.\n",
    "2. Code structure is clear and easy to follow.\n",
    "\n",
    "Weaknesses:\n",
    "1. Contains an unnecessary loop that does not contribute to the solution.\n",
    "2. Uses a placeholder array (sortedList) that consumes more memory than necessary.\n",
    "3. Does not handle negative numbers comprehensively.\n",
    "4. Lacks comments or documentation for better readability.\n",
    "5. Performance inefficiencies for large ranges due to placeholder array size.\n"
   ]
  },
  {
   "cell_type": "markdown",
   "metadata": {},
   "source": [
    "\n",
    "## Part 3:\n",
    "\n",
    "Please write a 200 word reflection documenting your process from assignment 1, and your presentation and review experience with your partner at the bottom of the Jupyter Notebook under a new heading \"Reflection.\" Again, export this Notebook as pdf.\n"
   ]
  },
  {
   "cell_type": "markdown",
   "metadata": {},
   "source": [
    "### Reflection"
   ]
  },
  {
   "cell_type": "markdown",
   "metadata": {},
   "source": [
    "In Assignment 1, I approached the problem by breaking it into manageable steps: understanding the problem, analyzing edge cases, and implementing a solution with a focus on correctness and efficiency. The initial implementation involved using placeholder arrays to track missing numbers, which worked but lacked scalability for larger ranges. During this process, I gained a deeper understanding of how to handle edge cases, such as empty lists or duplicates, and the importance of optimizing both time and space complexity.\n",
    "\n",
    "The presentation and review experience with my partner provided valuable insights. Reviewing my partner’s solution helped me identify alternative approaches, such as using sets instead of arrays to optimize memory usage. Additionally, I noticed some areas where redundant code could be eliminated for clarity and performance. Critiquing their work also highlighted areas in my own implementation that could be improved"
   ]
  },
  {
   "cell_type": "markdown",
   "metadata": {},
   "source": [
    "\n",
    "## Evaluation Criteria\n",
    "\n",
    "We are looking for the similar points as Assignment 1\n",
    "\n",
    "-   Problem is accurately stated\n",
    "\n",
    "-   New example is correct and easily understandable\n",
    "\n",
    "-   Correctness, time, and space complexity of the coding solution\n",
    "\n",
    "-   Clarity in explaining why the solution works, its time and space complexity\n",
    "\n",
    "-   Quality of critique of your partner's assignment, if necessary\n"
   ]
  },
  {
   "cell_type": "markdown",
   "metadata": {},
   "source": [
    "## Submission Information\n",
    "\n",
    "🚨 **Please review our [Assignment Submission Guide](https://github.com/UofT-DSI/onboarding/blob/main/onboarding_documents/submissions.md)** 🚨 for detailed instructions on how to format, branch, and submit your work. Following these guidelines is crucial for your submissions to be evaluated correctly.\n",
    "\n",
    "### Submission Parameters:\n",
    "* Submission Due Date: `HH:MM AM/PM - DD/MM/YYYY`\n",
    "* The branch name for your repo should be: `assignment-2`\n",
    "* What to submit for this assignment:\n",
    "    * This Jupyter Notebook (assignment_2.ipynb) should be populated and should be the only change in your pull request.\n",
    "* What the pull request link should look like for this assignment: `https://github.com/<your_github_username>/algorithms_and_data_structures/pull/<pr_id>`\n",
    "    * Open a private window in your browser. Copy and paste the link to your pull request into the address bar. Make sure you can see your pull request properly. This helps the technical facilitator and learning support staff review your submission easily.\n",
    "\n",
    "Checklist:\n",
    "- [ ] Created a branch with the correct naming convention.\n",
    "- [ ] Ensured that the repository is public.\n",
    "- [ ] Reviewed the PR description guidelines and adhered to them.\n",
    "- [ ] Verify that the link is accessible in a private browser window.\n",
    "\n",
    "If you encounter any difficulties or have questions, please don't hesitate to reach out to our team via our Slack at `#cohort-3-help`. Our Technical Facilitators and Learning Support staff are here to help you navigate any challenges.\n"
   ]
  }
 ],
 "metadata": {
  "kernelspec": {
   "display_name": "dsi_participant",
   "language": "python",
   "name": "python3"
  },
  "language_info": {
   "codemirror_mode": {
    "name": "ipython",
    "version": 3
   },
   "file_extension": ".py",
   "mimetype": "text/x-python",
   "name": "python",
   "nbconvert_exporter": "python",
   "pygments_lexer": "ipython3",
   "version": "3.9.19"
  }
 },
 "nbformat": 4,
 "nbformat_minor": 2
}
